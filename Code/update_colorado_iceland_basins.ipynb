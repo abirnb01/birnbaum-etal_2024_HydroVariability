{
 "cells": [
  {
   "cell_type": "markdown",
   "id": "8c49925b-04a2-44bf-8a94-c552c77fcded",
   "metadata": {},
   "source": [
    "# Original Data Clean-Up for Birnbaum et al (2024) \"Characterizing the Multisectoral Impacts of Future Global Hydrologic Variability\""
   ]
  },
  {
   "cell_type": "markdown",
   "id": "477828af-eadc-43a6-814e-e9b1a35a44e1",
   "metadata": {},
   "source": [
    "This Jupyter notebook loads in the raw data from the historical reference, deterministic model, and future projection and annualizes the monthly data. In addition, the deterministic model time series in the historical period is updated for the Upper Colorado and Iceland basins."
   ]
  },
  {
   "cell_type": "markdown",
   "id": "21cee125",
   "metadata": {},
   "source": [
    "# Import Statements"
   ]
  },
  {
   "cell_type": "code",
   "execution_count": 1,
   "id": "261b3887",
   "metadata": {},
   "outputs": [],
   "source": [
    "# general useful packages\n",
    "import time, os, math, random\n",
    "import pandas as pd # data analysis\n",
    "import numpy as np # numerical analysis"
   ]
  },
  {
   "cell_type": "markdown",
   "id": "3fbc8f20",
   "metadata": {},
   "source": [
    "# Set data paths"
   ]
  },
  {
   "cell_type": "code",
   "execution_count": 2,
   "id": "70041449",
   "metadata": {},
   "outputs": [],
   "source": [
    "#paths to data\n",
    "hpath = '/cluster/tufts/lamontagnelab/abirnb01/GCIMS/Abby_paper/xanthos_output/historical_gswp3w5e5/'\n",
    "fpath = '/cluster/tufts/lamontagnelab/abirnb01/GCIMS/Abby_paper/xanthos_output/xanthos_cmip6_03252024/'\n",
    "\n",
    "#data file names\n",
    "hist_obs = 'watergap2-2e_gswp3-w5e5_obsclim_histsoc_nowatermgt_qtot_basin_km3-per-mth_1901_2019.csv'\n",
    "hist_mod = 'Basin_runoff_km3permonth_pm_abcd_mrtm_watergap2-2e_gswp3-w5e5_1901_2019.csv'\n",
    "basin_mod_data = 'Basin_guta-runoff_km3peryear_watergap2-2e_gswp3-w5e5_historical_1901_2019.csv' #use to adjust historical values for Upper Colorado and Iceland\n",
    "fut_mod = 'Basin_runoff_km3permonth_gfdl-esm4_r1i1p1f1_ssp370_1850_2100.csv'"
   ]
  },
  {
   "cell_type": "markdown",
   "id": "052b1db1",
   "metadata": {},
   "source": [
    "# Clean up historical data"
   ]
  },
  {
   "cell_type": "code",
   "execution_count": 3,
   "id": "e6ddbbf1",
   "metadata": {},
   "outputs": [],
   "source": [
    "# load in \"observed\" data - watergap2 model that xanthos is calibrated to\n",
    "# watergap2 columns are basin, year, month, and runoff value.\n",
    "obs_data = pd.read_csv(hpath+hist_obs)\n",
    "\n",
    "# load in xanthos historical data used for calibration\n",
    "# xanthos columns are yearmonth, rows are basins - from 1901 to 2010\n",
    "det_data = pd.read_csv(hpath+hist_mod)\n",
    "\n",
    "# create dictionary mapping basin name to basin id\n",
    "basin_dict = dict(zip(det_data.name,det_data.id))\n",
    "\n",
    "# convert deterministic model data to same format as observed data\n",
    "det_data2 = det_data.T # transpose data frame\n",
    "det_data2.columns = det_data2.iloc[1] # set column names to basin names\n",
    "det_data2 = det_data2.iloc[2:] # remove first two rows of dataframe (column names and associated ID, will add back later)\n",
    "\n",
    "det_data3 = det_data2.unstack() # reformat so year,month and basin_name are columns\n",
    "det_data3 = det_data3.reset_index()\n",
    "det_data3 = det_data3.rename(columns={'name':'basin_name','level_1':'year_month',0:'q'}) # rename columns\n",
    "det_data3['basin_id'] = det_data3['basin_name'].map(basin_dict) # create column for basin ID\n",
    "det_data3['year'] = det_data3['year_month'].str[0:4].astype(int) # create column for year\n",
    "det_data3['month'] = det_data3['year_month'].str[4:].astype(int) # create column for month\n",
    "\n",
    "# merge deterministic model and observed dataframes\n",
    "obs_data = obs_data.rename(columns={'basin':'basin_id'}) # rename column for basin id in observed dataframe\n",
    "data = obs_data.merge(det_data3,on=['basin_id','year','month'],suffixes=['_obs','_det']) # merge dataframes\n",
    "data = data.filter(['basin_name','basin_id','year','month','q_obs','q_det'])\n",
    "\n",
    "# Convert Runoff from Monthly to Annual\n",
    "data['q_det'] = data['q_det'].astype(float)\n",
    "data_annual = data.groupby(['basin_id','basin_name','year'])[['q_obs','q_det']].sum() #annual runoff by basin\n",
    "data_annual = data_annual.reset_index()"
   ]
  },
  {
   "cell_type": "markdown",
   "id": "a89975ca",
   "metadata": {},
   "source": [
    "# \"Fix\" Upper Colorado and Iceland"
   ]
  },
  {
   "cell_type": "code",
   "execution_count": 4,
   "id": "4919cfe5",
   "metadata": {},
   "outputs": [],
   "source": [
    "upcor_bsid = data_annual[data_annual.basin_name=='Upper Colorado River Basin']['basin_id'].iloc[0]\n",
    "icld_bsid = data_annual[data_annual.basin_name=='Iceland']['basin_id'].iloc[0]"
   ]
  },
  {
   "cell_type": "code",
   "execution_count": 5,
   "id": "27ff485b",
   "metadata": {},
   "outputs": [],
   "source": [
    "# load in recalibrated Upper Colorado Basin and Iceland basin from Guta\n",
    "basin_mod = pd.read_csv(hpath+basin_mod_data)\n",
    "upcor_runoff = basin_mod[basin_mod.id==upcor_bsid].sort_values(by='year')\n",
    "icld_runoff = basin_mod[basin_mod.id==icld_bsid].sort_values(by='year')\n",
    "\n",
    "#replace the upper colorado with the recalibrated data\n",
    "data_annual.loc[data_annual.basin_id==upcor_bsid,'q_det'] = upcor_runoff.value.to_numpy()\n",
    "data_annual.loc[data_annual.basin_id==icld_bsid,'q_det'] = icld_runoff.value.to_numpy()\n"
   ]
  },
  {
   "cell_type": "markdown",
   "id": "3c26dd14",
   "metadata": {},
   "source": [
    "# Clean up Future Data"
   ]
  },
  {
   "cell_type": "code",
   "execution_count": 6,
   "id": "228b9523",
   "metadata": {},
   "outputs": [],
   "source": [
    "#read in data\n",
    "fut_data = pd.read_csv(fpath+fut_mod)\n",
    "\n",
    "#create dictionary mapping basin name to basin id\n",
    "basin_dict = dict(zip(fut_data.name,fut_data.id))\n",
    "\n",
    "#convert futulated data to same format as observed data\n",
    "fut_data2 = fut_data.T #transpose data frame\n",
    "fut_data2.columns = fut_data2.iloc[1] #set column names to basin names\n",
    "fut_data2 = fut_data2.iloc[2:] #remove first two rows of dataframe (column names and associated ID, will add back later)\n",
    "\n",
    "fut_data3 = fut_data2.unstack() #reformat so year,month and basin_name are columns\n",
    "fut_data3 = fut_data3.reset_index()\n",
    "fut_data3 = fut_data3.rename(columns={'name':'basin_name','level_1':'year_month',0:'q_fut'}) # rename columns\n",
    "fut_data3['basin_id'] = fut_data3['basin_name'].map(basin_dict) # create column for basin ID\n",
    "fut_data3['year'] = fut_data3['year_month'].str[0:4].astype(int) # create column for year\n",
    "fut_data3['month'] = fut_data3['year_month'].str[4:].astype(int) # create column for month\n",
    "\n",
    "fut_annual = fut_data3.groupby(['basin_id','basin_name','year'])['q_fut'].sum().reset_index() # annual runoff by basin\n",
    "fut_annual = fut_annual[fut_annual.year>2019] # limit future to starting in 2020"
   ]
  },
  {
   "cell_type": "markdown",
   "id": "7ce5bd6f",
   "metadata": {},
   "source": [
    "# Final clean up and save"
   ]
  },
  {
   "cell_type": "code",
   "execution_count": 7,
   "id": "0ae39d5e",
   "metadata": {},
   "outputs": [],
   "source": [
    "spath = '/cluster/tufts/lamontagnelab/abirnb01/GCIMS/Abby_paper/ensemble_final/Runoff_data/'\n",
    "\n",
    "# make sure data_annual and fut_annual are in proper order\n",
    "data_annual = data_annual.sort_values(by=['basin_id','year'])\n",
    "fut_annual = fut_annual.sort_values(by=['basin_id','year'])\n",
    "\n",
    "# rename Missouri for both historical and future dataframes\n",
    "data_annual.loc[data_annual.basin_name=='Missouri River Basin','basin_name'] = 'Missouri'\n",
    "fut_annual.loc[fut_annual.basin_name=='Missouri River Basin','basin_name'] = 'Missouri'\n",
    "\n",
    "#save data_annual and fut_annual\n",
    "data_annual.set_index('basin_id').to_csv(spath+'hist_annual.csv',encoding='utf-8',header=True)\n",
    "fut_annual.set_index('basin_id').to_csv(spath+'fut_annual_gfdl_ssp370.csv',encoding='utf-8',header=True)"
   ]
  }
 ],
 "metadata": {
  "kernelspec": {
   "display_name": "hydrovar",
   "language": "python",
   "name": "hydrovar"
  },
  "language_info": {
   "codemirror_mode": {
    "name": "ipython",
    "version": 3
   },
   "file_extension": ".py",
   "mimetype": "text/x-python",
   "name": "python",
   "nbconvert_exporter": "python",
   "pygments_lexer": "ipython3",
   "version": "3.12.2"
  }
 },
 "nbformat": 4,
 "nbformat_minor": 5
}
